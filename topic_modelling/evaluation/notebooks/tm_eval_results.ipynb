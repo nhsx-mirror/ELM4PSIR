{
 "cells": [
  {
   "cell_type": "markdown",
   "id": "590e7e47",
   "metadata": {},
   "source": [
    "# Evaluation Results"
   ]
  },
  {
   "cell_type": "code",
   "execution_count": null,
   "id": "d9e9b062",
   "metadata": {},
   "outputs": [],
   "source": [
    "import evaluation"
   ]
  },
  {
   "cell_type": "markdown",
   "id": "52955a2b",
   "metadata": {
    "tags": []
   },
   "source": [
    "## Import results"
   ]
  },
  {
   "cell_type": "code",
   "execution_count": null,
   "id": "655825f6",
   "metadata": {},
   "outputs": [],
   "source": [
    "results = evaluation.Results(\"../results/\", combine_models=True)\n",
    "results.get_keys()"
   ]
  },
  {
   "cell_type": "markdown",
   "id": "a56a0e05",
   "metadata": {},
   "source": [
    "#### Below is from the original authors tutorial and results"
   ]
  },
  {
   "cell_type": "markdown",
   "id": "b9e3a49a",
   "metadata": {},
   "source": [
    "## Exploration"
   ]
  },
  {
   "cell_type": "code",
   "execution_count": null,
   "id": "40e8ceca",
   "metadata": {},
   "outputs": [],
   "source": [
    "results.get_data(\"BBC_news\", aggregated=True)"
   ]
  },
  {
   "cell_type": "code",
   "execution_count": null,
   "id": "30ed75e3",
   "metadata": {},
   "outputs": [],
   "source": [
    "results.get_data(\"trump\", aggregated=True)"
   ]
  },
  {
   "cell_type": "code",
   "execution_count": null,
   "id": "91d6127a",
   "metadata": {},
   "outputs": [],
   "source": [
    "results.get_data(\"20NewsGroup\", aggregated=True)"
   ]
  },
  {
   "cell_type": "code",
   "execution_count": null,
   "id": "aacd1db6",
   "metadata": {},
   "outputs": [],
   "source": [
    "results.get_data(\"un_dtm\", dtm=True, aggregated=True)"
   ]
  },
  {
   "cell_type": "code",
   "execution_count": null,
   "id": "263caf5a",
   "metadata": {},
   "outputs": [],
   "source": [
    "results.get_data(\"trump_dtm\", dtm=True, aggregated=True)"
   ]
  },
  {
   "cell_type": "markdown",
   "id": "60c8e747",
   "metadata": {},
   "source": [
    "## Results"
   ]
  },
  {
   "cell_type": "code",
   "execution_count": null,
   "id": "fe75df95",
   "metadata": {},
   "outputs": [],
   "source": [
    "models = [\"Top2Vec_mpnet\", \"LDA\", \"NMF\", \"CTM_CUSTOM\", \"Top2Vec\", \"BERTopic\"]\n",
    "results.visualize_table(models=models)"
   ]
  },
  {
   "cell_type": "code",
   "execution_count": null,
   "id": "f6d9ed2f",
   "metadata": {},
   "outputs": [],
   "source": [
    "results.visualize_table()"
   ]
  },
  {
   "cell_type": "code",
   "execution_count": null,
   "id": "9987e548",
   "metadata": {},
   "outputs": [],
   "source": [
    "results.visualize_table(dtm=True)"
   ]
  },
  {
   "cell_type": "markdown",
   "id": "01cff8a2",
   "metadata": {},
   "source": [
    "## Visualize Results"
   ]
  },
  {
   "cell_type": "code",
   "execution_count": null,
   "id": "2b305518",
   "metadata": {},
   "outputs": [],
   "source": [
    "for dataset in results.get_keys()[\"basic\"]:\n",
    "    if dataset != \"all\":\n",
    "        fig = results.plot_results(\n",
    "            dataset,\n",
    "            title=dataset,\n",
    "            x=\"nr_topics\",\n",
    "            y=\"npmi\",\n",
    "            xlabel=\"Number of Topics\",\n",
    "            ylabel=\"npmi\",\n",
    "            figsize=(9, 5),\n",
    "            confidence_interval=True,\n",
    "        )"
   ]
  },
  {
   "cell_type": "code",
   "execution_count": null,
   "id": "a4de1629",
   "metadata": {},
   "outputs": [],
   "source": [
    "for dataset in results.get_keys()[\"basic\"]:\n",
    "    if dataset != \"all\":\n",
    "        fig = results.plot_results(\n",
    "            dataset,\n",
    "            title=dataset,\n",
    "            x=\"nr_topics\",\n",
    "            y=\"diversity\",\n",
    "            xlabel=\"Number of Topics\",\n",
    "            ylabel=\"diversity\",\n",
    "            figsize=(9, 5),\n",
    "            confidence_interval=True,\n",
    "        )"
   ]
  },
  {
   "cell_type": "markdown",
   "id": "436eba20",
   "metadata": {},
   "source": [
    "## Computation "
   ]
  },
  {
   "cell_type": "code",
   "execution_count": null,
   "id": "da0216b4",
   "metadata": {},
   "outputs": [],
   "source": [
    "import matplotlib.pyplot as plt\n",
    "\n",
    "labels = {\n",
    "    \"bertopic_use.csv\": \"BERTopic-USE\",\n",
    "    \"bertopic_doc2vec.csv\": \"BERTopic-Doc2Vec\",\n",
    "    \"bertopic_mini.csv\": \"BERTopic-MiniLM\",\n",
    "    \"bertopic_mpnet.csv\": \"BERTopic-MPNET\",\n",
    "    \"ctm.csv\": \"CTM-MPNET\",\n",
    "    \"lda.csv\": \"LDA\",\n",
    "    \"nmf.csv\": \"NMF\",\n",
    "    \"top2vec_doc2vec.csv\": \"Top2Vec-Doc2Vec\",\n",
    "    \"top2vec_mpnet.csv\": \"Top2Vec-MPNET\",\n",
    "}\n",
    "fig = results.plot_computation(figsize=(5, 5), labels=labels, with_ctm=False)\n",
    "# plt.savefig(\"../results/computation_without_ctm.png\", dpi=300)"
   ]
  },
  {
   "cell_type": "code",
   "execution_count": null,
   "id": "b70f1e1b",
   "metadata": {},
   "outputs": [],
   "source": [
    "import matplotlib.pyplot as plt\n",
    "\n",
    "labels = {\n",
    "    \"bertopic_use.csv\": \"BERTopic-USE\",\n",
    "    \"bertopic_doc2vec.csv\": \"BERTopic-Doc2Vec\",\n",
    "    \"bertopic_mini.csv\": \"BERTopic-MiniLM\",\n",
    "    \"bertopic_mpnet.csv\": \"BERTopic-MPNET\",\n",
    "    \"ctm.csv\": \"CTM-MPNET\",\n",
    "    \"lda.csv\": \"LDA\",\n",
    "    \"nmf.csv\": \"NMF\",\n",
    "    \"top2vec_doc2vec.csv\": \"Top2Vec-Doc2Vec\",\n",
    "    \"top2vec_mpnet.csv\": \"Top2Vec-MPNET\",\n",
    "}\n",
    "fig = results.plot_computation(figsize=(5, 5), labels=labels, with_ctm=True)\n",
    "# plt.savefig(\"../results/computation_with_ctm.png\", dpi=300)"
   ]
  }
 ],
 "metadata": {
  "jupytext": {
   "formats": "ipynb,md"
  },
  "kernelspec": {
   "display_name": "elm4psir",
   "language": "python",
   "name": "python3"
  },
  "language_info": {
   "name": "python",
   "version": "3.8.15 | packaged by conda-forge | (default, Nov 22 2022, 08:53:40) \n[Clang 14.0.6 ]"
  },
  "vscode": {
   "interpreter": {
    "hash": "036f9b356400688fa32ab139d64151f7af42c87240ca002d464048bf8c685a85"
   }
  }
 },
 "nbformat": 4,
 "nbformat_minor": 5
}
