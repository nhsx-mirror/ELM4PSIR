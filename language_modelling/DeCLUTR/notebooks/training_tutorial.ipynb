{
 "cells": [
  {
   "cell_type": "markdown",
   "id": "b1f512b6",
   "metadata": {
    "id": "I8jt6ML03DS5"
   },
   "source": [
    "# Training your own model\n",
    "\n",
    "This notebook will walk you through training your own model using [DeCLUTR](https://github.com/JohnGiorgi/DeCLUTR)."
   ]
  },
  {
   "cell_type": "markdown",
   "id": "50e5fb40",
   "metadata": {
    "id": "SU3Iod2-g0-o"
   },
   "source": [
    "## 🔧 Install the prerequisites"
   ]
  },
  {
   "cell_type": "code",
   "execution_count": null,
   "id": "14bd7677",
   "metadata": {
    "id": "sr4r5pN40Kli"
   },
   "outputs": [],
   "source": [
    "# !pip install git+https://github.com/JohnGiorgi/DeCLUTR.git\n",
    "\n",
    "# go to main dir i.e. DeCLUTR on local and run \"pip install --editable .\"\""
   ]
  },
  {
   "cell_type": "markdown",
   "id": "08948d6a",
   "metadata": {
    "id": "Zog7ApwuUD7_"
   },
   "source": [
    "## 📖 Preparing a dataset"
   ]
  },
  {
   "cell_type": "markdown",
   "id": "42476a9d",
   "metadata": {
    "id": "uwnLpUmN4Art"
   },
   "source": [
    "\n",
    "A dataset is simply a file containing one item of text (a document, a scientific paper, etc.) per line. For demonstration purposes, we have provided a script that will download the [WikiText-103](https://www.salesforce.com/products/einstein/ai-research/the-wikitext-dependency-language-modeling-dataset/) dataset and format it for training with our method.\n",
    "\n",
    "The only \"gotcha\" is that each piece of text needs to be long enough so that we can sample spans from it. In general, you should collect documents of a minimum length according to the following:\n",
    "\n",
    "```python\n",
    "min_length = num_anchors * max_span_len * 2\n",
    "```\n",
    "\n",
    "In our paper, we set `num_anchors=2` and `max_span_len=512`, so we require documents of `min_length=2048`. We simply need to provide this value as an argument when running the script:"
   ]
  },
  {
   "cell_type": "code",
   "execution_count": null,
   "id": "b341167e",
   "metadata": {
    "id": "q0fwnwq23aAZ"
   },
   "outputs": [],
   "source": [
    "import os\n",
    "\n",
    "train_data_path = \"./data/wiki_text/wikitext-103/train.txt\"\n",
    "\n",
    "# run this to download and preprocess data\n",
    "\n",
    "min_length = 2048\n",
    "\n",
    "!python ../scripts/preprocess_wikitext_103.py $train_data_path --min-length $min_length --max-instances 100"
   ]
  },
  {
   "cell_type": "markdown",
   "id": "282ef418",
   "metadata": {
    "id": "yUEFeupP6qy-"
   },
   "source": [
    "Lets confirm that our dataset looks as expected."
   ]
  },
  {
   "cell_type": "code",
   "execution_count": null,
   "id": "9ba77249",
   "metadata": {
    "id": "K7ffGXCn7Cpq"
   },
   "outputs": [],
   "source": [
    "!wc -l $train_data_path  # This should be approximately 17.8K lines"
   ]
  },
  {
   "cell_type": "code",
   "execution_count": null,
   "id": "27061b6d",
   "metadata": {
    "id": "10DprWZc9iV6"
   },
   "outputs": [],
   "source": [
    "# !head -n 1 $train_data_path  # This should be a single Wikipedia entry"
   ]
  },
  {
   "cell_type": "markdown",
   "id": "a3f094ae",
   "metadata": {},
   "source": [
    "### Look at sampling technique\n",
    "\n",
    "This will help get an idea of what "
   ]
  },
  {
   "cell_type": "code",
   "execution_count": null,
   "id": "a00f09f1",
   "metadata": {},
   "outputs": [],
   "source": [
    "import torch\n",
    "from declutr.common.contrastive_utils import sample_anchor_positive_pairs\n",
    "from declutr.losses import NTXentLoss\n",
    "from transformers import AutoTokenizer"
   ]
  },
  {
   "cell_type": "code",
   "execution_count": null,
   "id": "7c3a4913",
   "metadata": {},
   "outputs": [],
   "source": [
    "text = \"this is just an example sentence to test out some sampling and loss calculation from DeCLUTR. We want to see exactly how it works in order to implement it for our own use case\"\n",
    "len_text = len(text.split())"
   ]
  },
  {
   "cell_type": "code",
   "execution_count": null,
   "id": "5f90aa5a",
   "metadata": {},
   "outputs": [],
   "source": [
    "# just go with one anchor for now\n",
    "\n",
    "num_anchors = 1\n",
    "max_span_len = int((len_text / 2) / num_anchors)\n",
    "\n",
    "min_span_len = 5\n",
    "num_positives = 5\n",
    "sampling_strat = \"adjacent\""
   ]
  },
  {
   "cell_type": "code",
   "execution_count": null,
   "id": "30af7839",
   "metadata": {},
   "outputs": [],
   "source": [
    "anchor_spans, positive_spans = sample_anchor_positive_pairs(\n",
    "    text=text,\n",
    "    num_anchors=num_anchors,\n",
    "    num_positives=num_positives,\n",
    "    max_span_len=max_span_len,\n",
    "    min_span_len=min_span_len,\n",
    "    sampling_strategy=sampling_strat,\n",
    ")"
   ]
  },
  {
   "cell_type": "code",
   "execution_count": null,
   "id": "dbb862e1",
   "metadata": {},
   "outputs": [],
   "source": [
    "anchor_spans"
   ]
  },
  {
   "cell_type": "code",
   "execution_count": null,
   "id": "d41bcef8",
   "metadata": {},
   "outputs": [],
   "source": [
    "positive_spans"
   ]
  },
  {
   "cell_type": "code",
   "execution_count": null,
   "id": "9db47bde",
   "metadata": {},
   "outputs": [],
   "source": [
    "# test loss function\n",
    "anchor_emb = torch.rand(64).unsqueeze(0)\n",
    "pos_emb = torch.rand(64).unsqueeze(0)\n",
    "neg_emb = torch.rand(64).unsqueeze(0)"
   ]
  },
  {
   "cell_type": "code",
   "execution_count": null,
   "id": "62ab3dff",
   "metadata": {},
   "outputs": [],
   "source": [
    "anchor_pos_embs = torch.cat((anchor_emb, pos_emb))\n",
    "loss_func = NTXentLoss\n",
    "embs, labels = NTXentLoss.get_embeddings_and_label(anchor_emb, pos_emb)"
   ]
  },
  {
   "cell_type": "markdown",
   "id": "1d0fa34f",
   "metadata": {
    "id": "VKYdambZ59nM"
   },
   "source": [
    "## 🏃 Training the model\n",
    "\n",
    "Once you have collected the dataset, you can easily initiate a training session with the `allennlp train` command. An experiment is configured using a [Jsonnet](https://jsonnet.org/) config file. Lets take a look at the config for the DeCLUTR-small model presented in [our paper](https://arxiv.org/abs/2006.03659):"
   ]
  },
  {
   "cell_type": "code",
   "execution_count": null,
   "id": "709dda5f",
   "metadata": {},
   "outputs": [],
   "source": [
    "# with open(\"../training_config/declutr_small.jsonnet\", \"r\") as f:\n",
    "#     print(f.read())"
   ]
  },
  {
   "cell_type": "markdown",
   "id": "c3f14544",
   "metadata": {
    "id": "-f1HqWSscWOx"
   },
   "source": [
    "\n",
    "The only thing to configure is the path to the training set (`train_data_path`), which can be passed to `allennlp train` via the `--overrides` argument (but you can also provide it in your config file directly, if you prefer):"
   ]
  },
  {
   "cell_type": "code",
   "execution_count": null,
   "id": "243ff8a4",
   "metadata": {
    "id": "YS9VuxESBcr3"
   },
   "outputs": [],
   "source": [
    "# overrides = (\n",
    "#     f\"{{'train_data_path': '{train_data_path}', \"\n",
    "#     # lower the batch size to be able to train on Colab GPUs\n",
    "#     \"'data_loader.batch_size': 2, \"\n",
    "#     # training examples / batch size. Not required, but gives us a more informative progress bar during training\n",
    "#     \"'data_loader.batches_per_epoch': None}\"\n",
    "# )\n",
    "\n",
    "\n",
    "overrides = (\n",
    "    f\"{{'train_data_path': '{train_data_path}', \"\n",
    "    # lower the batch size to be able to train on Colab GPUs\n",
    "    \"'data_loader.batch_size': 4,}\"\n",
    ")"
   ]
  },
  {
   "cell_type": "code",
   "execution_count": null,
   "id": "77eb6ac3",
   "metadata": {
    "id": "2v4tiiXgBC2M"
   },
   "outputs": [],
   "source": [
    "overrides"
   ]
  },
  {
   "cell_type": "code",
   "execution_count": null,
   "id": "c8ea9f9d",
   "metadata": {
    "id": "Db_cNfZ76KRf"
   },
   "outputs": [],
   "source": [
    "!allennlp train \"../training_config/declutr_small_v2.jsonnet\" \\\n",
    "    --serialization-dir \"./saved_models/declutr/wiki/output\" \\\n",
    "    --overrides \"$overrides\" \\\n",
    "    --include-package \"declutr\" \\\n",
    "    -f"
   ]
  },
  {
   "cell_type": "markdown",
   "id": "b8d9af3d",
   "metadata": {
    "id": "Qsbr6OMv16GQ"
   },
   "source": [
    "### 🤗 Exporting a trained model to HuggingFace Transformers\n",
    "\n",
    "We have provided a simple script to export a trained model so that it can be loaded with [Hugging Face Transformers](https://github.com/huggingface/transformers)"
   ]
  },
  {
   "cell_type": "code",
   "execution_count": null,
   "id": "beb2b564",
   "metadata": {
    "id": "KqmWVD0y16GQ"
   },
   "outputs": [],
   "source": [
    "archive_file = \"./saved_models/declutr/wiki/output/\"\n",
    "save_directory = \"./saved_models/declutr/wiki/output/transformers_format/\"\n",
    "\n",
    "!python ../scripts/save_pretrained_hf.py --archive_file $archive_file --save_directory $save_directory"
   ]
  },
  {
   "cell_type": "code",
   "execution_count": null,
   "id": "b3ae980e",
   "metadata": {},
   "outputs": [],
   "source": [
    "# !python ../scripts/save_pretrained_hf.py --help"
   ]
  },
  {
   "cell_type": "markdown",
   "id": "0bd27366",
   "metadata": {
    "id": "N0-NTFaH16GQ"
   },
   "source": [
    "The model, saved to `--save-directory`, can then be loaded using the Hugging Face Transformers library\n",
    "\n",
    "> See the [embedding notebook](https://colab.research.google.com/github/JohnGiorgi/DeCLUTR/blob/master/notebooks/embedding.ipynb) for more details on using trained models."
   ]
  },
  {
   "cell_type": "code",
   "execution_count": null,
   "id": "bef73059",
   "metadata": {
    "id": "pAl1zIya16GQ"
   },
   "outputs": [],
   "source": [
    "from transformers import AutoModel, AutoModelForMaskedLM, AutoTokenizer\n",
    "\n",
    "tokenizer = AutoTokenizer.from_pretrained(f\"{save_directory}\")\n",
    "model = AutoModel.from_pretrained(f\"{save_directory}\")"
   ]
  },
  {
   "cell_type": "code",
   "execution_count": null,
   "id": "b1d8cebb",
   "metadata": {},
   "outputs": [],
   "source": [
    "model"
   ]
  },
  {
   "cell_type": "markdown",
   "id": "b65f84c6",
   "metadata": {
    "id": "mzQ0G4rp16GQ"
   },
   "source": [
    "> If you would like to upload your model to the Hugging Face model repository, follow the instructions [here](https://huggingface.co/transformers/model_sharing.html)."
   ]
  },
  {
   "cell_type": "markdown",
   "id": "e8aa4ea3",
   "metadata": {
    "id": "eD5dZo18EE-S"
   },
   "source": [
    "## ♻️ Conclusion\n",
    "\n",
    "That's it! In this notebook, we covered how to collect data for training the model, and specifically how _long_ that text needs to be. We then briefly covered configuring and running a training session. Please see [our paper](https://arxiv.org/abs/2006.03659) and [repo](https://github.com/JohnGiorgi/DeCLUTR) for more details, and don't hesitate to open an issue if you have any trouble!"
   ]
  }
 ],
 "metadata": {
  "jupytext": {
   "formats": "ipynb,md"
  },
  "kernelspec": {
   "display_name": "elm4psir",
   "language": "python",
   "name": "python3"
  },
  "language_info": {
   "name": "python",
   "version": "3.8.15 | packaged by conda-forge | (default, Nov 22 2022, 08:53:40) \n[Clang 14.0.6 ]"
  },
  "vscode": {
   "interpreter": {
    "hash": "036f9b356400688fa32ab139d64151f7af42c87240ca002d464048bf8c685a85"
   }
  }
 },
 "nbformat": 4,
 "nbformat_minor": 5
}
